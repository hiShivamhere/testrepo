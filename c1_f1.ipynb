{
 "cells": [
  {
   "cell_type": "code",
   "execution_count": 55,
   "id": "93755f20-d53f-421d-81d5-edf34f65f69a",
   "metadata": {},
   "outputs": [],
   "source": [
    "def moveToZero(n):\n",
    "    if n<0:\n",
    "        for i in range(n,0):\n",
    "            if i<0:\n",
    "                print(i)\n",
    "        pass\n",
    "                \n",
    "            \n",
    "    elif n>0:\n",
    "        for i in range(n,0,-1):\n",
    "            if i>0:\n",
    "                print(i)\n",
    "        pass\n",
    "        \n",
    "    else:\n",
    "        return n"
   ]
  },
  {
   "cell_type": "code",
   "execution_count": 56,
   "id": "2afde99a-7107-49ee-a0bf-e22ebeeb8234",
   "metadata": {},
   "outputs": [
    {
     "name": "stdout",
     "output_type": "stream",
     "text": [
      "-3\n",
      "-2\n",
      "-1\n",
      "None\n"
     ]
    }
   ],
   "source": [
    "print(moveToZero(-3))"
   ]
  },
  {
   "cell_type": "code",
   "execution_count": 57,
   "id": "404e484e-293d-4a6c-aa47-d2572bd0ff32",
   "metadata": {},
   "outputs": [
    {
     "name": "stdout",
     "output_type": "stream",
     "text": [
      "3\n",
      "2\n",
      "1\n",
      "None\n"
     ]
    }
   ],
   "source": [
    "print(moveToZero(3))"
   ]
  },
  {
   "cell_type": "code",
   "execution_count": 58,
   "id": "d505f91a-e994-4fcb-b15a-cf42d9977027",
   "metadata": {},
   "outputs": [
    {
     "name": "stdout",
     "output_type": "stream",
     "text": [
      "0\n"
     ]
    }
   ],
   "source": [
    "print(moveToZero(0))"
   ]
  },
  {
   "cell_type": "code",
   "execution_count": null,
   "id": "6e653765-89cf-4e40-8e51-fa74605ecbde",
   "metadata": {},
   "outputs": [],
   "source": []
  }
 ],
 "metadata": {
  "kernelspec": {
   "display_name": "Python 3 (ipykernel)",
   "language": "python",
   "name": "python3"
  },
  "language_info": {
   "codemirror_mode": {
    "name": "ipython",
    "version": 3
   },
   "file_extension": ".py",
   "mimetype": "text/x-python",
   "name": "python",
   "nbconvert_exporter": "python",
   "pygments_lexer": "ipython3",
   "version": "3.9.18"
  }
 },
 "nbformat": 4,
 "nbformat_minor": 5
}
